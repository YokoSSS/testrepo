{
 "cells": [
  {
   "cell_type": "code",
   "execution_count": 1,
   "id": "d392f73a-b764-45ed-ae96-0ab21867f895",
   "metadata": {},
   "outputs": [
    {
     "data": {
      "text/plain": [
       "2"
      ]
     },
     "execution_count": 1,
     "metadata": {},
     "output_type": "execute_result"
    }
   ],
   "source": [
    "1+1\n"
   ]
  },
  {
   "cell_type": "markdown",
   "id": "ca87a74d-1034-490d-a2cc-b274973916f1",
   "metadata": {},
   "source": [
    "Code blue"
   ]
  },
  {
   "cell_type": "code",
   "execution_count": null,
   "id": "b741369b-bc47-46c5-be79-81cf7f5f810b",
   "metadata": {},
   "outputs": [],
   "source": [
    "m"
   ]
  },
  {
   "cell_type": "markdown",
   "id": "742d6e01-e97b-434f-add6-7362617607d6",
   "metadata": {},
   "source": []
  }
 ],
 "metadata": {
  "kernelspec": {
   "display_name": "Python",
   "language": "python",
   "name": "conda-env-python-py"
  },
  "language_info": {
   "codemirror_mode": {
    "name": "ipython",
    "version": 3
   },
   "file_extension": ".py",
   "mimetype": "text/x-python",
   "name": "python",
   "nbconvert_exporter": "python",
   "pygments_lexer": "ipython3",
   "version": "3.7.12"
  }
 },
 "nbformat": 4,
 "nbformat_minor": 5
}
